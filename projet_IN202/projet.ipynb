{
 "cells": [
  {
   "attachments": {},
   "cell_type": "markdown",
   "metadata": {},
   "source": [
    "## Outils pour la manipulation d'images et librairies.\n"
   ]
  },
  {
   "cell_type": "code",
   "execution_count": 3,
   "metadata": {},
   "outputs": [],
   "source": [
    "import PIL\n",
    "from PIL import Image\n",
    "import numpy as np\n",
    "import scipy as sp\n",
    "import os\n",
    "from math import log10, sqrt\n",
    "\n",
    "def load(filename):\n",
    "    toLoad= Image.open(filename)\n",
    "    return np.asarray(toLoad)\n",
    "\n",
    "\n",
    "def psnr(original, compressed):\n",
    "    mse = np.mean((original - compressed) ** 2)\n",
    "    max_pixel = 255.0\n",
    "    psnr = 20 * log10(max_pixel / sqrt(mse))\n",
    "    return psnr\n",
    "\n",
    "def dct2(a):\n",
    "    return sp.fft.dct( sp.fft.dct( a, axis=0, norm='ortho' ), axis=1, norm='ortho' )\n",
    "\n",
    "def idct2(a):\n",
    "    return sp.fft.idct( sp.fft.idct( a, axis=0 , norm='ortho'), axis=1 , norm='ortho')\n",
    "\n"
   ]
  },
  {
   "attachments": {},
   "cell_type": "markdown",
   "metadata": {},
   "source": [
    "## Normalisation de l'image (YCbCr et padding)"
   ]
  },
  {
   "cell_type": "code",
   "execution_count": 27,
   "metadata": {},
   "outputs": [],
   "source": [
    "def RGB_YCbCr(image):\n",
    "    new_image = np.empty(image.shape, dtype = np.uint8)\n",
    "    new_image[:,:,0] = 0.299*image[:,:,0] + 0.587*image[:,:,1] + 0.114*image[:,:,2]\n",
    "    new_image[:,:,1] = -0.1687*image[:,:,0] - 0.3313*image[:,:,1] + 0.5*image[:,:,2] + 128\n",
    "    new_image[:,:,2] = 0.5*image[:,:,0] - 0.4187*image[:,:,1] - 0.0813*image[:,:,2] + 128\n",
    "    return new_image\n",
    "\n",
    "\n",
    "def YCbCr_RGB(image):\n",
    "    image = np.float64(image.copy())\n",
    "    new_image = np.empty(image.shape, dtype = np.uint8)\n",
    "    new_image[:,:,0] = np.clip(image[:,:,0] + 1.402*(image[:,:,2] - 128), 0, 255)\n",
    "    new_image[:,:,1] = np.clip(image[:,:,0] - 0.34414*(image[:,:,1] - 128) - 0.71414*(image[:,:,2] - 128), 0, 255)\n",
    "    new_image[:,:,2] = np.clip(image[:,:,0] + 1.772*(image[:,:,1] - 128), 0, 255)\n",
    "    return new_image\n",
    "\n",
    "def next_multiple(num, div):\n",
    "    if num % div == 0:\n",
    "        return num\n",
    "    else:\n",
    "        return ((num // div) + 1) * div\n",
    "\n",
    "def padding(image):\n",
    "    new_image = np.zeros((next_multiple(image.shape[0], 8),next_multiple(image.shape[1], 8),image.shape[2]), dtype = np.uint8)\n",
    "    new_image[:image.shape[0],:image.shape[1]] = image\n",
    "    return new_image\n",
    "\n",
    "def crop(image):\n",
    "    non_black_cols = np.where(image[:, -1, :] != 0)[0]\n",
    "    non_black_rows = np.where(image[-1, :, :] != 0)[0]\n",
    "\n",
    "    last_non_black_col = non_black_cols[-1] + 1 if len(non_black_cols) > 0 else image.shape[1]\n",
    "    last_non_black_row = non_black_rows[-1] + 1 if len(non_black_rows) > 0 else image.shape[0]\n",
    "\n",
    "    return image[:last_non_black_row, :last_non_black_col, :]\n"
   ]
  },
  {
   "attachments": {},
   "cell_type": "markdown",
   "metadata": {},
   "source": [
    "## Découpage en blocs et compression"
   ]
  },
  {
   "cell_type": "code",
   "execution_count": null,
   "metadata": {},
   "outputs": [],
   "source": []
  },
  {
   "attachments": {},
   "cell_type": "markdown",
   "metadata": {},
   "source": [
    "## Écriture dans un fichier"
   ]
  },
  {
   "cell_type": "code",
   "execution_count": null,
   "metadata": {},
   "outputs": [],
   "source": []
  },
  {
   "attachments": {},
   "cell_type": "markdown",
   "metadata": {},
   "source": [
    "## Décompression"
   ]
  },
  {
   "attachments": {},
   "cell_type": "markdown",
   "metadata": {},
   "source": [
    "## Tests "
   ]
  },
  {
   "cell_type": "code",
   "execution_count": 28,
   "metadata": {},
   "outputs": [],
   "source": [
    "test = load(\"test.png\")\n",
    "# Image.fromarray(test, mode = \"RGB\").show()\n",
    "# Image.fromarray(RGB_YCbCr(test), mode = \"YCbCr\").show()\n",
    "# Image.fromarray(YCbCr_RGB(RGB_YCbCr(test)), mode = \"RGB\").show()\n",
    "Image.fromarray(crop(padding(test)), mode = \"RGB\").show()"
   ]
  }
 ],
 "metadata": {
  "kernelspec": {
   "display_name": "Python 3",
   "language": "python",
   "name": "python3"
  },
  "language_info": {
   "codemirror_mode": {
    "name": "ipython",
    "version": 3
   },
   "file_extension": ".py",
   "mimetype": "text/x-python",
   "name": "python",
   "nbconvert_exporter": "python",
   "pygments_lexer": "ipython3",
   "version": "3.10.5"
  },
  "orig_nbformat": 4,
  "vscode": {
   "interpreter": {
    "hash": "e5f921d2cbc40cc05b5a24db6ba0e6b62c33b50cc3ec097b0c624e897b5a9797"
   }
  }
 },
 "nbformat": 4,
 "nbformat_minor": 2
}
