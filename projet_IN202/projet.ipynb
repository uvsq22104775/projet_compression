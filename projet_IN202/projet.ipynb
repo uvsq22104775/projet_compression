{
 "cells": [
  {
   "attachments": {},
   "cell_type": "markdown",
   "metadata": {},
   "source": [
    "## Outils pour la manipulation d'images et librairies.\n"
   ]
  },
  {
   "cell_type": "code",
   "execution_count": 1,
   "metadata": {},
   "outputs": [],
   "source": [
    "import PIL\n",
    "from PIL import Image\n",
    "import numpy as np\n",
    "import scipy as sp\n",
    "import os\n",
    "from math import log10, sqrt\n",
    "\n",
    "def load(filename):\n",
    "    toLoad= Image.open(filename)\n",
    "    return np.asarray(toLoad)\n",
    "\n",
    "\n",
    "def psnr(original, compressed):\n",
    "    mse = np.mean((original - compressed) ** 2)\n",
    "    max_pixel = 255.0\n",
    "    psnr = 20 * log10(max_pixel / sqrt(mse))\n",
    "    return psnr\n",
    "\n",
    "def dct2(a):\n",
    "    return sp.fft.dct( sp.fft.dct( a, axis=0, norm='ortho' ), axis=1, norm='ortho' )\n",
    "\n",
    "def idct2(a):\n",
    "    return sp.fft.idct( sp.fft.idct( a, axis=0 , norm='ortho'), axis=1 , norm='ortho')\n",
    "\n"
   ]
  },
  {
   "attachments": {},
   "cell_type": "markdown",
   "metadata": {},
   "source": [
    "## Normalisation de l'image (YCbCr et padding)"
   ]
  },
  {
   "cell_type": "code",
   "execution_count": 2,
   "metadata": {},
   "outputs": [
    {
     "name": "stdout",
     "output_type": "stream",
     "text": [
      "[[[255 213 127]\n",
      "  [  0   0   0]\n",
      "  [  0   0   0]\n",
      "  ...\n",
      "  [  0   0   0]\n",
      "  [  0   0   0]\n",
      "  [255 213 127]]\n",
      "\n",
      " [[255 213 127]\n",
      "  [  0   0   0]\n",
      "  [  0   0   0]\n",
      "  ...\n",
      "  [  0   0   0]\n",
      "  [  0   0   0]\n",
      "  [255 213 127]]\n",
      "\n",
      " [[255 213 127]\n",
      "  [  0   0   0]\n",
      "  [  0   0   0]\n",
      "  ...\n",
      "  [  0   0   0]\n",
      "  [  0   0   0]\n",
      "  [255 213 127]]\n",
      "\n",
      " ...\n",
      "\n",
      " [[255 213 127]\n",
      "  [  0   0   0]\n",
      "  [  0   0   0]\n",
      "  ...\n",
      "  [  0   0   0]\n",
      "  [  0   0   0]\n",
      "  [255 213 127]]\n",
      "\n",
      " [[255 213 127]\n",
      "  [  0   0   0]\n",
      "  [  0   0   0]\n",
      "  ...\n",
      "  [  0   0   0]\n",
      "  [  0   0   0]\n",
      "  [255 213 127]]\n",
      "\n",
      " [[255 213 127]\n",
      "  [255 213 127]\n",
      "  [255 213 127]\n",
      "  ...\n",
      "  [255 213 127]\n",
      "  [255 213 127]\n",
      "  [255 213 127]]]\n"
     ]
    }
   ],
   "source": [
    "def RGB_YCbCr():\n",
    "    mat = load(\"test.png\")\n",
    "    new_mat = np.empty((mat.shape),dtype = np.uint8)\n",
    "    for i in range(mat.shape[0]):\n",
    "        for j in range(mat.shape[1]):\n",
    "\n",
    "            Y = min(mat[i,j,0] * 0.299\n",
    "            + mat[i,j,1] * 0.587\n",
    "            + mat[i,j,2] * 0.114\n",
    "            , 255)\n",
    "            \n",
    "            Cb = mat[i,j,0] * -0.1687\n",
    "            + mat[i,j,1] * -0.3313\n",
    "            + mat[i,j,2] * 0.5\n",
    "            + 128\n",
    "\n",
    "            Cr = mat[i,j,0] * 0.5\n",
    "            + mat[i,j,1] * -0.4187\n",
    "            + mat[i,j,2] * -0.0813\n",
    "            + 128\n",
    "\n",
    "            new_mat[i,j] = (Y, Cb, Cr)\n",
    "    return new_mat\n",
    "\n",
    "def YCbCr_RGB():\n",
    "    mat = load(\"test.png\")\n",
    "    new_mat = np.empty((mat.shape),dtype = np.uint8)\n",
    "    for i in range(mat.shape[0]):\n",
    "        for j in range(mat.shape[1]):\n",
    "\n",
    "            Y = mat[i,j,0] * 0.299\n",
    "            + mat[i,j,1] * 0.587\n",
    "            + mat[i,j,2] * 0.114\n",
    "            \n",
    "            Cb = mat[i,j,0] * -0.1687\n",
    "            + mat[i,j,1] * -0.3313\n",
    "            + mat[i,j,2] * 0.5\n",
    "            + 128\n",
    "\n",
    "            Cr = mat[i,j,0] * 0.5\n",
    "            + mat[i,j,1] * -0.4187\n",
    "            + mat[i,j,2] * -0.0813\n",
    "            + 128\n",
    "\n",
    "            new_mat[i,j] = (Y, Cb, Cr)\n",
    "    return new_mat\n",
    "\n",
    "print(RGB_YCbCr())"
   ]
  },
  {
   "attachments": {},
   "cell_type": "markdown",
   "metadata": {},
   "source": [
    "## Découpage en blocs et compression"
   ]
  },
  {
   "cell_type": "code",
   "execution_count": null,
   "metadata": {},
   "outputs": [],
   "source": []
  },
  {
   "attachments": {},
   "cell_type": "markdown",
   "metadata": {},
   "source": [
    "## Écriture dans un fichier"
   ]
  },
  {
   "cell_type": "code",
   "execution_count": null,
   "metadata": {},
   "outputs": [],
   "source": [
    "def fichier():\n",
    "    \n",
    "    f = open(\"fichier_test.txt\",\"w\")\n",
    "\n",
    "    f.write(\"SJPG\\n\"+str(test.shape[0])+\" \"+ str(test.shape[1]))"
   ]
  },
  {
   "attachments": {},
   "cell_type": "markdown",
   "metadata": {},
   "source": [
    "## Décompression"
   ]
  },
  {
   "attachments": {},
   "cell_type": "markdown",
   "metadata": {},
   "source": [
    "## Tests "
   ]
  },
  {
   "cell_type": "code",
   "execution_count": 3,
   "metadata": {},
   "outputs": [],
   "source": [
    "test = load(\"test.png\")\n",
    "Image.fromarray(test,'RGB').show()\n"
   ]
  }
 ],
 "metadata": {
  "kernelspec": {
   "display_name": "Python 3",
   "language": "python",
   "name": "python3"
  },
  "language_info": {
   "codemirror_mode": {
    "name": "ipython",
    "version": 3
   },
   "file_extension": ".py",
   "mimetype": "text/x-python",
   "name": "python",
   "nbconvert_exporter": "python",
   "pygments_lexer": "ipython3",
   "version": "3.9.16"
  },
  "orig_nbformat": 4,
  "vscode": {
   "interpreter": {
    "hash": "e5f921d2cbc40cc05b5a24db6ba0e6b62c33b50cc3ec097b0c624e897b5a9797"
   }
  }
 },
 "nbformat": 4,
 "nbformat_minor": 2
}
